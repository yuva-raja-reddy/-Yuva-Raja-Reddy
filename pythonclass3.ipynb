{
 "cells": [
  {
   "cell_type": "code",
   "execution_count": 5,
   "metadata": {},
   "outputs": [
    {
     "name": "stdout",
     "output_type": "stream",
     "text": [
      "hello-world!\t...\n"
     ]
    }
   ],
   "source": [
    "print(\"hello\",\"world\",sep=\"-\",end=\"!\\t\")\n",
    "print(\"...\")"
   ]
  },
  {
   "cell_type": "code",
   "execution_count": 1,
   "metadata": {},
   "outputs": [
    {
     "name": "stdout",
     "output_type": "stream",
     "text": [
      "This is a single-line comment example.\n"
     ]
    },
    {
     "data": {
      "text/plain": [
       "'\\nThis is a multi-line comment or a docstring.\\nUsed for describing code or modules.\\n'"
      ]
     },
     "execution_count": 1,
     "metadata": {},
     "output_type": "execute_result"
    }
   ],
   "source": [
    "print(\"This is a single-line comment example.\")  \n",
    "\n",
    "\"\"\"\n",
    "This is a multi-line comment or a docstring.\n",
    "Used for describing code or modules.\n",
    "\"\"\""
   ]
  },
  {
   "cell_type": "code",
   "execution_count": 2,
   "metadata": {},
   "outputs": [
    {
     "name": "stdout",
     "output_type": "stream",
     "text": [
      "Snake case example\n",
      "Camel case example\n"
     ]
    }
   ],
   "source": [
    "my_variable = \"Snake case example\"\n",
    "myVariable = \"Camel case example\"\n",
    "\n",
    "print(my_variable)\n",
    "print(myVariable)"
   ]
  },
  {
   "cell_type": "code",
   "execution_count": 3,
   "metadata": {},
   "outputs": [
    {
     "name": "stdout",
     "output_type": "stream",
     "text": [
      "Total: 150\n",
      "Sum: 30\n"
     ]
    }
   ],
   "source": [
    "total = 10 + 20 + \\\n",
    "        30 + 40 + \\\n",
    "        50\n",
    "print(\"Total:\", total)\n",
    "\n",
    "a = 10; b = 20; c = a + b\n",
    "print(\"Sum:\", c)"
   ]
  },
  {
   "cell_type": "code",
   "execution_count": 4,
   "metadata": {},
   "outputs": [
    {
     "name": "stdout",
     "output_type": "stream",
     "text": [
      "Addition: 19\n",
      "Subtraction: 11\n",
      "Multiplication: 60\n",
      "Division: 3.75\n",
      "Floor Division: 3\n",
      "Modulus: 3\n",
      "Power: 50625\n"
     ]
    }
   ],
   "source": [
    "a, b = 15, 4\n",
    "print(\"Addition:\", a + b)\n",
    "print(\"Subtraction:\", a - b)\n",
    "print(\"Multiplication:\", a * b)\n",
    "print(\"Division:\", a / b)\n",
    "print(\"Floor Division:\", a // b)\n",
    "print(\"Modulus:\", a % b)\n",
    "print(\"Power:\", a ** b)"
   ]
  },
  {
   "cell_type": "code",
   "execution_count": 5,
   "metadata": {},
   "outputs": [
    {
     "name": "stdout",
     "output_type": "stream",
     "text": [
      "Quotient: 3 Remainder: 3\n",
      "Sum of digits: 15\n",
      "Days completed: 16\n"
     ]
    }
   ],
   "source": [
    "result = divmod(15, 4)\n",
    "print(\"Quotient:\", result[0], \"Remainder:\", result[1])\n",
    "\n",
    "number = 12345\n",
    "sum_of_digits = 0\n",
    "while number:\n",
    "    number, digit = divmod(number, 10)\n",
    "    sum_of_digits += digit\n",
    "print(\"Sum of digits:\", sum_of_digits)\n",
    "\n",
    "revolutions = 32\n",
    "days_completed = revolutions // 2\n",
    "print(\"Days completed:\", days_completed)"
   ]
  },
  {
   "cell_type": "code",
   "execution_count": 6,
   "metadata": {},
   "outputs": [
    {
     "name": "stdout",
     "output_type": "stream",
     "text": [
      "After += : 15\n",
      "After -= : 12\n",
      "After *= : 24\n",
      "After /= : 12.0\n",
      "After %= : 0.0\n"
     ]
    }
   ],
   "source": [
    "x = 10\n",
    "x += 5  \n",
    "print(\"After += :\", x)\n",
    "\n",
    "x -= 3  \n",
    "print(\"After -= :\", x)\n",
    "\n",
    "x *= 2  \n",
    "print(\"After *= :\", x)\n",
    "\n",
    "x /= 2  \n",
    "print(\"After /= :\", x)\n",
    "\n",
    "x %= 3  \n",
    "print(\"After %= :\", x)"
   ]
  },
  {
   "cell_type": "code",
   "execution_count": null,
   "metadata": {},
   "outputs": [],
   "source": []
  }
 ],
 "metadata": {
  "kernelspec": {
   "display_name": "Python 3",
   "language": "python",
   "name": "python3"
  },
  "language_info": {
   "codemirror_mode": {
    "name": "ipython",
    "version": 3
   },
   "file_extension": ".py",
   "mimetype": "text/x-python",
   "name": "python",
   "nbconvert_exporter": "python",
   "pygments_lexer": "ipython3",
   "version": "3.12.1"
  }
 },
 "nbformat": 4,
 "nbformat_minor": 2
}
